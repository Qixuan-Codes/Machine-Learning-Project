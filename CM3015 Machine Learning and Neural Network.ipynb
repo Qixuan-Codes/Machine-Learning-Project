{
 "cells": [
  {
   "cell_type": "markdown",
   "id": "c759be77",
   "metadata": {},
   "source": [
    "# CM3015 Machine Learning and Neural Networks"
   ]
  },
  {
   "cell_type": "code",
   "execution_count": 1,
   "id": "240ee95e",
   "metadata": {},
   "outputs": [],
   "source": [
    "# Importing pandas and nompy\n",
    "import pandas as pd\n",
    "import numpy as np"
   ]
  },
  {
   "cell_type": "code",
   "execution_count": 2,
   "id": "ccd0deed",
   "metadata": {},
   "outputs": [],
   "source": [
    "# Reading from dataset\n",
    "df = pd.read_csv(\"Netflix TV Shows and Movies.csv\")"
   ]
  },
  {
   "cell_type": "code",
   "execution_count": 3,
   "id": "3210dd60",
   "metadata": {},
   "outputs": [
    {
     "data": {
      "text/html": [
       "<div>\n",
       "<style scoped>\n",
       "    .dataframe tbody tr th:only-of-type {\n",
       "        vertical-align: middle;\n",
       "    }\n",
       "\n",
       "    .dataframe tbody tr th {\n",
       "        vertical-align: top;\n",
       "    }\n",
       "\n",
       "    .dataframe thead th {\n",
       "        text-align: right;\n",
       "    }\n",
       "</style>\n",
       "<table border=\"1\" class=\"dataframe\">\n",
       "  <thead>\n",
       "    <tr style=\"text-align: right;\">\n",
       "      <th></th>\n",
       "      <th>index</th>\n",
       "      <th>id</th>\n",
       "      <th>title</th>\n",
       "      <th>type</th>\n",
       "      <th>description</th>\n",
       "      <th>release_year</th>\n",
       "      <th>age_certification</th>\n",
       "      <th>runtime</th>\n",
       "      <th>imdb_id</th>\n",
       "      <th>imdb_score</th>\n",
       "      <th>imdb_votes</th>\n",
       "    </tr>\n",
       "  </thead>\n",
       "  <tbody>\n",
       "    <tr>\n",
       "      <th>0</th>\n",
       "      <td>0</td>\n",
       "      <td>tm84618</td>\n",
       "      <td>Taxi Driver</td>\n",
       "      <td>MOVIE</td>\n",
       "      <td>A mentally unstable Vietnam War veteran works ...</td>\n",
       "      <td>1976</td>\n",
       "      <td>R</td>\n",
       "      <td>113</td>\n",
       "      <td>tt0075314</td>\n",
       "      <td>8.3</td>\n",
       "      <td>795222.0</td>\n",
       "    </tr>\n",
       "    <tr>\n",
       "      <th>1</th>\n",
       "      <td>1</td>\n",
       "      <td>tm127384</td>\n",
       "      <td>Monty Python and the Holy Grail</td>\n",
       "      <td>MOVIE</td>\n",
       "      <td>King Arthur, accompanied by his squire, recrui...</td>\n",
       "      <td>1975</td>\n",
       "      <td>PG</td>\n",
       "      <td>91</td>\n",
       "      <td>tt0071853</td>\n",
       "      <td>8.2</td>\n",
       "      <td>530877.0</td>\n",
       "    </tr>\n",
       "    <tr>\n",
       "      <th>2</th>\n",
       "      <td>2</td>\n",
       "      <td>tm70993</td>\n",
       "      <td>Life of Brian</td>\n",
       "      <td>MOVIE</td>\n",
       "      <td>Brian Cohen is an average young Jewish man, bu...</td>\n",
       "      <td>1979</td>\n",
       "      <td>R</td>\n",
       "      <td>94</td>\n",
       "      <td>tt0079470</td>\n",
       "      <td>8.0</td>\n",
       "      <td>392419.0</td>\n",
       "    </tr>\n",
       "    <tr>\n",
       "      <th>3</th>\n",
       "      <td>3</td>\n",
       "      <td>tm190788</td>\n",
       "      <td>The Exorcist</td>\n",
       "      <td>MOVIE</td>\n",
       "      <td>12-year-old Regan MacNeil begins to adapt an e...</td>\n",
       "      <td>1973</td>\n",
       "      <td>R</td>\n",
       "      <td>133</td>\n",
       "      <td>tt0070047</td>\n",
       "      <td>8.1</td>\n",
       "      <td>391942.0</td>\n",
       "    </tr>\n",
       "    <tr>\n",
       "      <th>4</th>\n",
       "      <td>4</td>\n",
       "      <td>ts22164</td>\n",
       "      <td>Monty Python's Flying Circus</td>\n",
       "      <td>SHOW</td>\n",
       "      <td>A British sketch comedy series with the shows ...</td>\n",
       "      <td>1969</td>\n",
       "      <td>TV-14</td>\n",
       "      <td>30</td>\n",
       "      <td>tt0063929</td>\n",
       "      <td>8.8</td>\n",
       "      <td>72895.0</td>\n",
       "    </tr>\n",
       "  </tbody>\n",
       "</table>\n",
       "</div>"
      ],
      "text/plain": [
       "   index        id                            title   type  \\\n",
       "0      0   tm84618                      Taxi Driver  MOVIE   \n",
       "1      1  tm127384  Monty Python and the Holy Grail  MOVIE   \n",
       "2      2   tm70993                    Life of Brian  MOVIE   \n",
       "3      3  tm190788                     The Exorcist  MOVIE   \n",
       "4      4   ts22164     Monty Python's Flying Circus   SHOW   \n",
       "\n",
       "                                         description  release_year  \\\n",
       "0  A mentally unstable Vietnam War veteran works ...          1976   \n",
       "1  King Arthur, accompanied by his squire, recrui...          1975   \n",
       "2  Brian Cohen is an average young Jewish man, bu...          1979   \n",
       "3  12-year-old Regan MacNeil begins to adapt an e...          1973   \n",
       "4  A British sketch comedy series with the shows ...          1969   \n",
       "\n",
       "  age_certification  runtime    imdb_id  imdb_score  imdb_votes  \n",
       "0                 R      113  tt0075314         8.3    795222.0  \n",
       "1                PG       91  tt0071853         8.2    530877.0  \n",
       "2                 R       94  tt0079470         8.0    392419.0  \n",
       "3                 R      133  tt0070047         8.1    391942.0  \n",
       "4             TV-14       30  tt0063929         8.8     72895.0  "
      ]
     },
     "execution_count": 3,
     "metadata": {},
     "output_type": "execute_result"
    }
   ],
   "source": [
    "# Checking the csv\n",
    "df.head()"
   ]
  },
  {
   "cell_type": "code",
   "execution_count": 4,
   "id": "852e0172",
   "metadata": {},
   "outputs": [
    {
     "data": {
      "text/plain": [
       "index                   0\n",
       "id                      0\n",
       "title                   0\n",
       "type                    0\n",
       "description             5\n",
       "release_year            0\n",
       "age_certification    2285\n",
       "runtime                 0\n",
       "imdb_id                 0\n",
       "imdb_score              0\n",
       "imdb_votes             16\n",
       "dtype: int64"
      ]
     },
     "execution_count": 4,
     "metadata": {},
     "output_type": "execute_result"
    }
   ],
   "source": [
    "# Checking for NA values\n",
    "df.isna().sum()"
   ]
  },
  {
   "cell_type": "code",
   "execution_count": 5,
   "id": "3cb7ab34",
   "metadata": {},
   "outputs": [
    {
     "data": {
      "text/plain": [
       "index                0\n",
       "id                   0\n",
       "title                0\n",
       "type                 0\n",
       "description          0\n",
       "release_year         0\n",
       "age_certification    0\n",
       "runtime              0\n",
       "imdb_id              0\n",
       "imdb_score           0\n",
       "imdb_votes           0\n",
       "dtype: int64"
      ]
     },
     "execution_count": 5,
     "metadata": {},
     "output_type": "execute_result"
    }
   ],
   "source": [
    "# Creating a new dataframe to store the cleaned file\n",
    "df_clean = pd.DataFrame()\n",
    "\n",
    "# Dropping rows with N.A\n",
    "df_clean = df.dropna()\n",
    "\n",
    "# Checking the N.A values after dropping the rows\n",
    "df_clean.isna().sum()"
   ]
  },
  {
   "cell_type": "code",
   "execution_count": 6,
   "id": "352ef05d",
   "metadata": {},
   "outputs": [
    {
     "data": {
      "text/html": [
       "<div>\n",
       "<style scoped>\n",
       "    .dataframe tbody tr th:only-of-type {\n",
       "        vertical-align: middle;\n",
       "    }\n",
       "\n",
       "    .dataframe tbody tr th {\n",
       "        vertical-align: top;\n",
       "    }\n",
       "\n",
       "    .dataframe thead th {\n",
       "        text-align: right;\n",
       "    }\n",
       "</style>\n",
       "<table border=\"1\" class=\"dataframe\">\n",
       "  <thead>\n",
       "    <tr style=\"text-align: right;\">\n",
       "      <th></th>\n",
       "      <th>title</th>\n",
       "      <th>type</th>\n",
       "      <th>description</th>\n",
       "      <th>release_year</th>\n",
       "      <th>age_certification</th>\n",
       "      <th>runtime</th>\n",
       "      <th>imdb_score</th>\n",
       "      <th>imdb_votes</th>\n",
       "    </tr>\n",
       "  </thead>\n",
       "  <tbody>\n",
       "    <tr>\n",
       "      <th>0</th>\n",
       "      <td>Taxi Driver</td>\n",
       "      <td>MOVIE</td>\n",
       "      <td>A mentally unstable Vietnam War veteran works ...</td>\n",
       "      <td>1976</td>\n",
       "      <td>R</td>\n",
       "      <td>113</td>\n",
       "      <td>8.3</td>\n",
       "      <td>795222.0</td>\n",
       "    </tr>\n",
       "    <tr>\n",
       "      <th>1</th>\n",
       "      <td>Monty Python and the Holy Grail</td>\n",
       "      <td>MOVIE</td>\n",
       "      <td>King Arthur, accompanied by his squire, recrui...</td>\n",
       "      <td>1975</td>\n",
       "      <td>PG</td>\n",
       "      <td>91</td>\n",
       "      <td>8.2</td>\n",
       "      <td>530877.0</td>\n",
       "    </tr>\n",
       "    <tr>\n",
       "      <th>2</th>\n",
       "      <td>Life of Brian</td>\n",
       "      <td>MOVIE</td>\n",
       "      <td>Brian Cohen is an average young Jewish man, bu...</td>\n",
       "      <td>1979</td>\n",
       "      <td>R</td>\n",
       "      <td>94</td>\n",
       "      <td>8.0</td>\n",
       "      <td>392419.0</td>\n",
       "    </tr>\n",
       "    <tr>\n",
       "      <th>3</th>\n",
       "      <td>The Exorcist</td>\n",
       "      <td>MOVIE</td>\n",
       "      <td>12-year-old Regan MacNeil begins to adapt an e...</td>\n",
       "      <td>1973</td>\n",
       "      <td>R</td>\n",
       "      <td>133</td>\n",
       "      <td>8.1</td>\n",
       "      <td>391942.0</td>\n",
       "    </tr>\n",
       "    <tr>\n",
       "      <th>4</th>\n",
       "      <td>Monty Python's Flying Circus</td>\n",
       "      <td>SHOW</td>\n",
       "      <td>A British sketch comedy series with the shows ...</td>\n",
       "      <td>1969</td>\n",
       "      <td>TV-14</td>\n",
       "      <td>30</td>\n",
       "      <td>8.8</td>\n",
       "      <td>72895.0</td>\n",
       "    </tr>\n",
       "  </tbody>\n",
       "</table>\n",
       "</div>"
      ],
      "text/plain": [
       "                             title   type  \\\n",
       "0                      Taxi Driver  MOVIE   \n",
       "1  Monty Python and the Holy Grail  MOVIE   \n",
       "2                    Life of Brian  MOVIE   \n",
       "3                     The Exorcist  MOVIE   \n",
       "4     Monty Python's Flying Circus   SHOW   \n",
       "\n",
       "                                         description  release_year  \\\n",
       "0  A mentally unstable Vietnam War veteran works ...          1976   \n",
       "1  King Arthur, accompanied by his squire, recrui...          1975   \n",
       "2  Brian Cohen is an average young Jewish man, bu...          1979   \n",
       "3  12-year-old Regan MacNeil begins to adapt an e...          1973   \n",
       "4  A British sketch comedy series with the shows ...          1969   \n",
       "\n",
       "  age_certification  runtime  imdb_score  imdb_votes  \n",
       "0                 R      113         8.3    795222.0  \n",
       "1                PG       91         8.2    530877.0  \n",
       "2                 R       94         8.0    392419.0  \n",
       "3                 R      133         8.1    391942.0  \n",
       "4             TV-14       30         8.8     72895.0  "
      ]
     },
     "execution_count": 6,
     "metadata": {},
     "output_type": "execute_result"
    }
   ],
   "source": [
    "# Removing the index column as there is a inbuild indexing within the dataframe\n",
    "df_clean = df_clean.drop(columns=['index', 'id', 'imdb_id'])\n",
    "\n",
    "# Checking the dataframe\n",
    "df_clean.head()"
   ]
  },
  {
   "cell_type": "code",
   "execution_count": 7,
   "id": "09983ae7",
   "metadata": {},
   "outputs": [
    {
     "name": "stdout",
     "output_type": "stream",
     "text": [
      "Unique values in type column ['MOVIE' 'SHOW']\n",
      "Unique values in age_certification column ['R' 'PG' 'TV-14' 'G' 'PG-13' 'TV-MA' 'TV-PG' 'TV-Y' 'TV-G' 'TV-Y7'\n",
      " 'NC-17']\n"
     ]
    }
   ],
   "source": [
    "# Checking the unique values in the type, age_certification columns\n",
    "print(\"Unique values in type column\", df_clean['type'].unique())\n",
    "print(\"Unique values in age_certification column\", df_clean['age_certification'].unique())"
   ]
  },
  {
   "cell_type": "code",
   "execution_count": 8,
   "id": "0fb7e7b2",
   "metadata": {},
   "outputs": [
    {
     "name": "stdout",
     "output_type": "stream",
     "text": [
      "title                 object\n",
      "type                  object\n",
      "description           object\n",
      "release_year           int64\n",
      "age_certification     object\n",
      "runtime                int64\n",
      "imdb_score           float64\n",
      "imdb_votes           float64\n",
      "dtype: object\n"
     ]
    }
   ],
   "source": [
    "print(df_clean.dtypes)"
   ]
  },
  {
   "cell_type": "code",
   "execution_count": 9,
   "id": "c4dc012b",
   "metadata": {},
   "outputs": [],
   "source": [
    "# Converting imdb_votes to int32 instead of float\n",
    "df_clean[\"imdb_votes\"] = df_clean[\"imdb_votes\"].astype(int)"
   ]
  },
  {
   "cell_type": "code",
   "execution_count": 10,
   "id": "1ecb9cb4",
   "metadata": {},
   "outputs": [
    {
     "data": {
      "text/html": [
       "<div>\n",
       "<style scoped>\n",
       "    .dataframe tbody tr th:only-of-type {\n",
       "        vertical-align: middle;\n",
       "    }\n",
       "\n",
       "    .dataframe tbody tr th {\n",
       "        vertical-align: top;\n",
       "    }\n",
       "\n",
       "    .dataframe thead th {\n",
       "        text-align: right;\n",
       "    }\n",
       "</style>\n",
       "<table border=\"1\" class=\"dataframe\">\n",
       "  <thead>\n",
       "    <tr style=\"text-align: right;\">\n",
       "      <th></th>\n",
       "      <th>title</th>\n",
       "      <th>type</th>\n",
       "      <th>description</th>\n",
       "      <th>release_year</th>\n",
       "      <th>age_certification</th>\n",
       "      <th>runtime</th>\n",
       "      <th>imdb_score</th>\n",
       "      <th>imdb_votes</th>\n",
       "    </tr>\n",
       "  </thead>\n",
       "  <tbody>\n",
       "    <tr>\n",
       "      <th>0</th>\n",
       "      <td>Taxi Driver</td>\n",
       "      <td>MOVIE</td>\n",
       "      <td>A mentally unstable Vietnam War veteran works ...</td>\n",
       "      <td>1976</td>\n",
       "      <td>R</td>\n",
       "      <td>113</td>\n",
       "      <td>8.3</td>\n",
       "      <td>795222</td>\n",
       "    </tr>\n",
       "    <tr>\n",
       "      <th>1</th>\n",
       "      <td>Monty Python and the Holy Grail</td>\n",
       "      <td>MOVIE</td>\n",
       "      <td>King Arthur, accompanied by his squire, recrui...</td>\n",
       "      <td>1975</td>\n",
       "      <td>PG</td>\n",
       "      <td>91</td>\n",
       "      <td>8.2</td>\n",
       "      <td>530877</td>\n",
       "    </tr>\n",
       "    <tr>\n",
       "      <th>2</th>\n",
       "      <td>Life of Brian</td>\n",
       "      <td>MOVIE</td>\n",
       "      <td>Brian Cohen is an average young Jewish man, bu...</td>\n",
       "      <td>1979</td>\n",
       "      <td>R</td>\n",
       "      <td>94</td>\n",
       "      <td>8.0</td>\n",
       "      <td>392419</td>\n",
       "    </tr>\n",
       "    <tr>\n",
       "      <th>3</th>\n",
       "      <td>The Exorcist</td>\n",
       "      <td>MOVIE</td>\n",
       "      <td>12-year-old Regan MacNeil begins to adapt an e...</td>\n",
       "      <td>1973</td>\n",
       "      <td>R</td>\n",
       "      <td>133</td>\n",
       "      <td>8.1</td>\n",
       "      <td>391942</td>\n",
       "    </tr>\n",
       "    <tr>\n",
       "      <th>4</th>\n",
       "      <td>Monty Python's Flying Circus</td>\n",
       "      <td>SHOW</td>\n",
       "      <td>A British sketch comedy series with the shows ...</td>\n",
       "      <td>1969</td>\n",
       "      <td>TV-14</td>\n",
       "      <td>30</td>\n",
       "      <td>8.8</td>\n",
       "      <td>72895</td>\n",
       "    </tr>\n",
       "  </tbody>\n",
       "</table>\n",
       "</div>"
      ],
      "text/plain": [
       "                             title   type  \\\n",
       "0                      Taxi Driver  MOVIE   \n",
       "1  Monty Python and the Holy Grail  MOVIE   \n",
       "2                    Life of Brian  MOVIE   \n",
       "3                     The Exorcist  MOVIE   \n",
       "4     Monty Python's Flying Circus   SHOW   \n",
       "\n",
       "                                         description  release_year  \\\n",
       "0  A mentally unstable Vietnam War veteran works ...          1976   \n",
       "1  King Arthur, accompanied by his squire, recrui...          1975   \n",
       "2  Brian Cohen is an average young Jewish man, bu...          1979   \n",
       "3  12-year-old Regan MacNeil begins to adapt an e...          1973   \n",
       "4  A British sketch comedy series with the shows ...          1969   \n",
       "\n",
       "  age_certification  runtime  imdb_score  imdb_votes  \n",
       "0                 R      113         8.3      795222  \n",
       "1                PG       91         8.2      530877  \n",
       "2                 R       94         8.0      392419  \n",
       "3                 R      133         8.1      391942  \n",
       "4             TV-14       30         8.8       72895  "
      ]
     },
     "execution_count": 10,
     "metadata": {},
     "output_type": "execute_result"
    }
   ],
   "source": [
    "df_clean.head()"
   ]
  },
  {
   "cell_type": "code",
   "execution_count": 11,
   "id": "eae1f87f",
   "metadata": {},
   "outputs": [],
   "source": [
    "# Exporting cleaned dataset to csv\n",
    "df_clean.to_csv(\"processed_netflix.csv\", index=False)"
   ]
  },
  {
   "cell_type": "code",
   "execution_count": 12,
   "id": "f44f4f2a",
   "metadata": {},
   "outputs": [],
   "source": [
    "# Importing cleaned dataset\n",
    "df_clean = pd.read_csv(\"processed_netflix.csv\")"
   ]
  },
  {
   "cell_type": "code",
   "execution_count": 13,
   "id": "5c881353",
   "metadata": {},
   "outputs": [],
   "source": [
    "# Importing matplotlib\n",
    "import matplotlib.pyplot as plt\n",
    "\n",
    "# Importing Machine Learning Models\n",
    "from sklearn.model_selection import train_test_split\n",
    "from sklearn.linear_model import LinearRegression\n",
    "from sklearn.metrics import mean_squared_error\n",
    "from sklearn.preprocessing import PolynomialFeatures\n",
    "from sklearn.pipeline import make_pipeline\n",
    "from sklearn.model_selection import cross_val_score\n",
    "\n",
    "#Importing Encoder to encode categorical columns\n",
    "from sklearn.preprocessing import OneHotEncoder"
   ]
  },
  {
   "cell_type": "code",
   "execution_count": 14,
   "id": "7aebcb06",
   "metadata": {},
   "outputs": [
    {
     "name": "stdout",
     "output_type": "stream",
     "text": [
      "Mean Squared Error: 0.9829865907557113\n",
      "Model Score: 0.1974577249716778\n"
     ]
    },
    {
     "data": {
      "image/png": "[encoded data removed]",
      "text/plain": [
       "<Figure size 432x288 with 1 Axes>"
      ]
     },
     "metadata": {
      "needs_background": "light"
     },
     "output_type": "display_data"
    }
   ],
   "source": [
    "# Selecting the categorical and numerical columns in the dataframe\n",
    "x_categorical = df_clean[['type', 'age_certification']]\n",
    "x_numerical = df_clean[['release_year', 'imdb_votes', 'runtime']]\n",
    "\n",
    "# Using OneHotEncoder to encode the categorical features and storing them in X_encoded. Meaningful names are also given by using the get_feature_names_out function\n",
    "encoder = OneHotEncoder(sparse=False)\n",
    "x_encoded = pd.DataFrame(encoder.fit_transform(x_categorical), columns=encoder.get_feature_names_out(['type', 'age_certification']))\n",
    "\n",
    "# Combining the encoded columns and the numerical columns to a single matrix\n",
    "x = pd.concat([x_encoded, x_numerical], axis=1)\n",
    "\n",
    "# Assigning the target variable to imdb_score\n",
    "y = df_clean['imdb_score']\n",
    "\n",
    "# Splitting the data into 80% training and 20% testing set\n",
    "x_train, x_test, y_train, y_test = train_test_split(x, y, test_size=0.2, random_state=42)\n",
    "\n",
    "# Creates the Linear Regression Model\n",
    "model = LinearRegression()\n",
    "model.fit(x_train, y_train)\n",
    "\n",
    "# Make predictions on the test set\n",
    "predictions = model.predict(x_test)\n",
    "\n",
    "# Evaluating the model based on the mean squared error and model score\n",
    "mse = mean_squared_error(y_test, predictions)\n",
    "print(f'Mean Squared Error: {mse}')\n",
    "\n",
    "model_score = model.score(x_test, y_test)\n",
    "print(f'Model Score: {model_score}')\n",
    "\n",
    "# Plotting the results\n",
    "plt.scatter(y_test, predictions)\n",
    "plt.xlabel('Actual IMDb Score')\n",
    "plt.ylabel('Predicted IMDb Score')\n",
    "plt.title('Actual vs Predicted IMDb Score')\n",
    "plt.show()"
   ]
  },
  {
   "cell_type": "code",
   "execution_count": 15,
   "id": "5ffb152a",
   "metadata": {},
   "outputs": [
    {
     "name": "stdout",
     "output_type": "stream",
     "text": [
      "Polynomial Regression Mean Squared Error: 0.9375811544408333\n",
      "Polynomial Regression Model Score: 0.23452820233269767\n"
     ]
    },
    {
     "data": {
      "image/png": "[encoded data removed]",
      "text/plain": [
       "<Figure size 432x288 with 1 Axes>"
      ]
     },
     "metadata": {
      "needs_background": "light"
     },
     "output_type": "display_data"
    }
   ],
   "source": [
    "# Creating a polynomial regression pipeline\n",
    "poly_model = make_pipeline(PolynomialFeatures(degree=2), LinearRegression())\n",
    "poly_model.fit(x_train, y_train)\n",
    "\n",
    "# Making predictions on the test set\n",
    "poly_predictions = poly_model.predict(x_test)\n",
    "\n",
    "# Evaluating the model\n",
    "poly_mse = mean_squared_error(y_test, poly_predictions)\n",
    "poly_score = poly_model.score(x_test, y_test)\n",
    "\n",
    "# Printing the Mean Squared Error and Model Score\n",
    "print(f'Polynomial Regression Mean Squared Error: {poly_mse}')\n",
    "print(f'Polynomial Regression Model Score: {poly_score}')\n",
    "\n",
    "# Plotting the results\n",
    "plt.scatter(y_test, poly_predictions)\n",
    "plt.xlabel('Actual IMDb Score')\n",
    "plt.ylabel('Predicted IMDb Score')\n",
    "plt.title('Actual vs Predicted IMDb Score (Polynomial Regression)')\n",
    "plt.show()"
   ]
  },
  {
   "cell_type": "code",
   "execution_count": 16,
   "id": "992504cd",
   "metadata": {},
   "outputs": [
    {
     "name": "stdout",
     "output_type": "stream",
     "text": [
      "Fold 1, Mean Squared Error: 14.56543689640645\n",
      "Fold 2, Mean Squared Error: 1.107524883449692\n",
      "Fold 3, Mean Squared Error: 1.2220036944184478\n",
      "Fold 4, Mean Squared Error: 1.0210765806469742\n",
      "Fold 5, Mean Squared Error: 1.3880145152569632\n",
      "Average Mean Squared Error: 3.860811314035705\n"
     ]
    }
   ],
   "source": [
    "# Assigning the features and target variables\n",
    "x = df_clean[['runtime', 'release_year', 'imdb_votes']].values\n",
    "y = df_clean['imdb_score'].values\n",
    "\n",
    "# Setting the degree for polynomial features\n",
    "degree = 2\n",
    "\n",
    "# Creating a pipeline with Polynomial Regression and Linear Regression\n",
    "model = make_pipeline(PolynomialFeatures(degree), LinearRegression())\n",
    "\n",
    "# Performing k-fold cross-validation (let's say k=5 for this example)\n",
    "k = 5\n",
    "mse_scores = -cross_val_score(model, x, y, cv=k, scoring='neg_mean_squared_error')\n",
    "\n",
    "# Printing the mean squared error scores for each fold\n",
    "for i, mse in enumerate(mse_scores, 1):\n",
    "    print(f'Fold {i}, Mean Squared Error: {mse}')\n",
    "\n",
    "# Printing the average mean squared error across all folds\n",
    "average_mse = np.mean(mse_scores)\n",
    "print(f'Average Mean Squared Error: {average_mse}')"
   ]
  },
  {
   "cell_type": "code",
   "execution_count": 17,
   "id": "ac1a87c4",
   "metadata": {},
   "outputs": [
    {
     "name": "stdout",
     "output_type": "stream",
     "text": [
      "Iteration 0, Mean Squared Error: 46.58591898225645\n",
      "Iteration 100, Mean Squared Error: 4.108791369062303\n",
      "Iteration 200, Mean Squared Error: 2.398924822650133\n",
      "Iteration 300, Mean Squared Error: 2.326607807359628\n",
      "Iteration 400, Mean Squared Error: 2.320253543820202\n",
      "Iteration 500, Mean Squared Error: 2.3167197311918897\n",
      "Iteration 600, Mean Squared Error: 2.3134502960279377\n",
      "Iteration 700, Mean Squared Error: 2.3103249372749914\n",
      "Iteration 800, Mean Squared Error: 2.3073233374444504\n",
      "Iteration 900, Mean Squared Error: 2.3044310866390356\n"
     ]
    },
    {
     "data": {
      "image/png": "[encoded data removed]",
      "text/plain": [
       "<Figure size 432x288 with 1 Axes>"
      ]
     },
     "metadata": {
      "needs_background": "light"
     },
     "output_type": "display_data"
    }
   ],
   "source": [
    "# Function that calculates the mean squared error between the real and predicted value\n",
    "def mean_squared_error(y_real, y_pred):\n",
    "    return np.mean((y_real - y_pred) ** 2)\n",
    "\n",
    "\n",
    "# Gradient descent function which takes in the x, y, learning rate and interation.\n",
    "def gradient_descent(x, y, learning_rate, iterations):\n",
    "    # Gets the rows and features from the x matrix\n",
    "    num_samples, num_features = x.shape\n",
    "    # Sets the weight and bias to 0\n",
    "    weights = np.zeros(num_features)\n",
    "    bias = 0\n",
    "\n",
    "    # For loop that interates based on the number of iteration\n",
    "    for iteration in range(iterations):\n",
    "        # Calculating the prediction based on the current weight and bias\n",
    "        predictions = np.dot(x, weights) + bias\n",
    "\n",
    "        # Calculate gradients by multiplying by a constant factor\n",
    "        # The weight is calculated by using the np.dot function which performs the dot product of the \n",
    "        # transpose matrix and the difference between the predicted and real y values\n",
    "        i_weight = -(2/num_samples) * np.dot(x.T, (y - predictions))\n",
    "        # Calculating the sum of difference between the real and predicted value\n",
    "        i_bias = -(2/num_samples) * np.sum(y - predictions)\n",
    "\n",
    "        # Updating the weights and bias by multiplying with the learning rate\n",
    "        weights -= learning_rate * i_weight\n",
    "        bias -= learning_rate * i_bias\n",
    "\n",
    "        if iteration % 100 == 0:\n",
    "            # Calculating the mean squared error\n",
    "            mse = mean_squared_error(y, predictions)\n",
    "            # Printing the mean squared error for every 100 iterations\n",
    "            print(f'Iteration {iteration}, Mean Squared Error: {mse}')\n",
    "\n",
    "    return weights, bias\n",
    "\n",
    "\n",
    "# Predict function that follows the linear regression model's formula which calculates the \n",
    "# dot product of x and the weight then adding the bias\n",
    "def predict(x, weights, bias):\n",
    "    return np.dot(x, weights) + bias\n",
    "\n",
    "\n",
    "# Scaler which takes in the data and sets the minimum and maximum value\n",
    "def scaler(data, new_min, new_max):\n",
    "    old_min, old_max = np.min(data), np.max(data)\n",
    "    scaled_data = new_min + (data - old_min) * (new_max - new_min) / (old_max - old_min)\n",
    "    return scaled_data\n",
    "\n",
    "\n",
    "# Setting the feature variables and target variable\n",
    "x_train = df_clean[['runtime', 'release_year', 'imdb_votes']].values\n",
    "y_train = df_clean['imdb_score'].values.reshape(-1, 1)\n",
    "\n",
    "x_train_scaled = np.zeros_like(x_train)\n",
    "\n",
    "# Scalling the features to 0 to 10\n",
    "for i in range(x_train.shape[1]):\n",
    "    x_train_scaled[:, i] = scaler(x_train[:, i], new_min=0, new_max=10)\n",
    "\n",
    "# Adding a bias term to x\n",
    "bias_term = np.ones((x_train_scaled.shape[0], 1))\n",
    "x_train_bias = np.concatenate((bias_term, x_train_scaled), axis=1)\n",
    "\n",
    "# Training the model\n",
    "weights, bias = gradient_descent(x_train_bias, y_train.flatten(), 0.0001, 1000)\n",
    "\n",
    "# Making prediction\n",
    "predictions = predict(x_train_bias, weights, bias)\n",
    "\n",
    "# Plotting the real vs predicted IMDb scores\n",
    "plt.scatter(y_train, predictions, label='Real vs. Predicted', color='blue')\n",
    "plt.plot([0, 10], [0, 10], color='red', linestyle='dashed', label='Perfect Prediction')\n",
    "plt.xlabel('Real IMDb Score')\n",
    "plt.ylabel('Predicted IMDb Score')\n",
    "plt.legend()\n",
    "\n",
    "plt.show()"
   ]
  }
 ],
 "metadata": {
  "kernelspec": {
   "display_name": "Python 3 (ipykernel)",
   "language": "python",
   "name": "python3"
  },
  "language_info": {
   "codemirror_mode": {
    "name": "ipython",
    "version": 3
   },
   "file_extension": ".py",
   "mimetype": "text/x-python",
   "name": "python",
   "nbconvert_exporter": "python",
   "pygments_lexer": "ipython3",
   "version": "3.9.12"
  }
 },
 "nbformat": 4,
 "nbformat_minor": 5
}
